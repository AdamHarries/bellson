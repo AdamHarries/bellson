{
 "cells": [
  {
   "cell_type": "code",
   "execution_count": null,
   "metadata": {},
   "outputs": [],
   "source": [
    "import json\n",
    "from pprint import pprint, pformat\n",
    "\n",
    "class Track: \n",
    "    bpm=None\n",
    "    filename=None\n",
    "    @classmethod\n",
    "    def from_json(cls,json):\n",
    "        metadata = json['metadata']\n",
    "        filename = json['location']\n",
    "        if metadata is not None and filename is not None: \n",
    "            bpm = metadata['bpm']\n",
    "            if bpm is not None and bpm is not 0: \n",
    "                return Track(bpm, filename)\n",
    "        return None\n",
    "    \n",
    "    def __init__(self, bpm, filename): \n",
    "        self.bpm = bpm\n",
    "        self.filename = filename\n",
    "        \n",
    "    def __str__(self):\n",
    "        return \"T[\"+str(self.bpm) + \",\" + str(self.filename) + \"]\"\n",
    "    def __repr__(self):\n",
    "        return \"T[\"+str(self.bpm) + \",\" + str(self.filename) + \"]\"\n",
    "\n",
    "class EllingtonData: \n",
    "    tracks=[]\n",
    "    @classmethod\n",
    "    def from_file(cls,filename): \n",
    "        with open(filename) as f: \n",
    "            json_data = json.load(f)\n",
    "            return EllingtonData(json_data)\n",
    "            \n",
    "    def __init__(self, json): \n",
    "        self.tracks = list(filter(lambda t: t is not None, map(Track.from_json, json['tracks'])))\n",
    "    def __str__(self): \n",
    "        return str(self.tracks)\n",
    "    def __repr__(self):\n",
    "        return pformat(self.tracks)\n",
    "        \n",
    "ed = EllingtonData.from_file('example.json')\n",
    "    \n",
    "pprint(ed)"
   ]
  },
  {
   "cell_type": "code",
   "execution_count": null,
   "metadata": {},
   "outputs": [],
   "source": []
  },
  {
   "cell_type": "code",
   "execution_count": null,
   "metadata": {},
   "outputs": [],
   "source": []
  }
 ],
 "metadata": {
  "kernelspec": {
   "display_name": "Python 3",
   "language": "python",
   "name": "python3"
  },
  "language_info": {
   "codemirror_mode": {
    "name": "ipython",
    "version": 3
   },
   "file_extension": ".py",
   "mimetype": "text/x-python",
   "name": "python",
   "nbconvert_exporter": "python",
   "pygments_lexer": "ipython3",
   "version": "3.6.5"
  }
 },
 "nbformat": 4,
 "nbformat_minor": 2
}
