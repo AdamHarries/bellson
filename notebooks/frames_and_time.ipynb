{
 "cells": [
  {
   "cell_type": "code",
   "execution_count": 10,
   "metadata": {},
   "outputs": [],
   "source": [
    "import librosa\n",
    "import numpy as np"
   ]
  },
  {
   "cell_type": "code",
   "execution_count": 11,
   "metadata": {},
   "outputs": [],
   "source": [
    "SAMPLE_RATE = 44100\n",
    "N_FFT = 1024\n",
    "WIN_LENGTH = N_FFT\n",
    "HOP_LENGTH = int(WIN_LENGTH/4)"
   ]
  },
  {
   "cell_type": "code",
   "execution_count": 12,
   "metadata": {},
   "outputs": [],
   "source": [
    "def time_to_stft_frame(time):\n",
    "    # First calculate time to sample:\n",
    "    # sample_ix = time * config.SAMPLE_RATE\n",
    "    # Then use that to calculate the column, by dividing by the hop_length\n",
    "    # stft_col = sample_ix / config.HOP_LENGTH\n",
    "    # return int((time * config.SAMPLE_RATE)/config.HOP_LENGTH)\n",
    "\n",
    "    # To calculate the starting (frame) index for a time t, call:\n",
    "    return librosa.core.time_to_frames(np.array([time]), sr=SAMPLE_RATE, hop_length=HOP_LENGTH)[0]"
   ]
  },
  {
   "cell_type": "code",
   "execution_count": 13,
   "metadata": {},
   "outputs": [],
   "source": [
    "def stft_frame_to_time(col_ix):\n",
    "    # First, calculate column IX to sample_ix\n",
    "    # sample_ix = col_ix * config.HOP_LENGTH\n",
    "    # Then divide by the sample rate to get time\n",
    "    # time = sample_ix / config.SAMPLE_RATE\n",
    "    # return float(col_ix * config.HOP_LENGTH) / float(config.SAMPLE_RATE)\n",
    "\n",
    "    # To calculate the time of a (frame) index i, call:\n",
    "    return librosa.core.frames_to_time(np.array([col_ix]), sr=SAMPLE_RATE, hop_length=HOP_LENGTH)[0]"
   ]
  },
  {
   "cell_type": "code",
   "execution_count": 20,
   "metadata": {},
   "outputs": [
    {
     "data": {
      "text/plain": [
       "9.984580498866213"
      ]
     },
     "execution_count": 20,
     "metadata": {},
     "output_type": "execute_result"
    }
   ],
   "source": [
    "# In the original model, we fix a length for our audio sample of `1720`. \n",
    "# This corresponds to /almost/ 10 seconds - specifically 9.98\n",
    "# We assume that longer time periods correspond to better predictions, \n",
    "# while shorter time periods correspond to faster training times and faster predictions. \n",
    "original_cols = 1720\n",
    "stft_frame_to_time(1720)"
   ]
  },
  {
   "cell_type": "code",
   "execution_count": 21,
   "metadata": {},
   "outputs": [
    {
     "data": {
      "text/plain": [
       "array([ 172,  516,  861, 1722, 2583, 3445, 5167])"
      ]
     },
     "execution_count": 21,
     "metadata": {},
     "output_type": "execute_result"
    }
   ],
   "source": [
    "# Some more possible audio lengths, and the sizes they correspond to: \n",
    "times = [1.0, 3.0, 5.0, 10.0, 15.0, 20.0, 30.0]\n",
    "time_to_stft_frame(times)"
   ]
  },
  {
   "cell_type": "code",
   "execution_count": 22,
   "metadata": {},
   "outputs": [
    {
     "data": {
      "text/plain": [
       "array([ 0.37151927,  0.74303855,  1.4860771 ,  2.9721542 ,  5.94430839,\n",
       "       11.88861678, 23.77723356])"
      ]
     },
     "execution_count": 22,
     "metadata": {},
     "output_type": "execute_result"
    }
   ],
   "source": [
    "# And some possible sizes, and the audio lengths they correspond to: \n",
    "sizes = [64,128,256,512,1024,2048,4096]\n",
    "stft_frame_to_time(sizes)"
   ]
  }
 ],
 "metadata": {
  "kernelspec": {
   "display_name": "Python 3",
   "language": "python",
   "name": "python3"
  },
  "language_info": {
   "codemirror_mode": {
    "name": "ipython",
    "version": 3
   },
   "file_extension": ".py",
   "mimetype": "text/x-python",
   "name": "python",
   "nbconvert_exporter": "python",
   "pygments_lexer": "ipython3",
   "version": "3.6.9"
  }
 },
 "nbformat": 4,
 "nbformat_minor": 4
}
